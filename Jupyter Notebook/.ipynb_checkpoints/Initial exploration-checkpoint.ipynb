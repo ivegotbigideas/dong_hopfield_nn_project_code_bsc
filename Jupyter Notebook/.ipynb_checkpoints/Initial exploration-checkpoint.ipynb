{
 "cells": [
  {
   "cell_type": "code",
   "execution_count": 1,
   "id": "cb6041d4",
   "metadata": {},
   "outputs": [],
   "source": [
    "import math\n",
    "import matplotlib.pyplot as plt\n",
    "import numpy as np"
   ]
  },
  {
   "cell_type": "code",
   "execution_count": 2,
   "id": "7c1fef0b",
   "metadata": {},
   "outputs": [],
   "source": [
    "def g(u):\n",
    "    return 1/(1+math.e**(-u))"
   ]
  },
  {
   "cell_type": "markdown",
   "id": "13007317",
   "metadata": {},
   "source": [
    "# Plot of g(u)\n",
    "This is just for the sake of visualisation."
   ]
  },
  {
   "cell_type": "code",
   "execution_count": 3,
   "id": "e466b348",
   "metadata": {},
   "outputs": [],
   "source": [
    "#ulist = np.linspace(-10,10,50)\n",
    "#vlist = g(ulist)\n",
    "#plt.figure(num=0,dpi=120)\n",
    "#plt.xlabel('$u$')\n",
    "#plt.ylabel('$g(u)$')\n",
    "#plt.plot(ulist,vlist)"
   ]
  },
  {
   "cell_type": "markdown",
   "id": "b80cfe4c",
   "metadata": {},
   "source": [
    "# Define dui_dt function"
   ]
  },
  {
   "cell_type": "code",
   "execution_count": 4,
   "id": "95da1aa4",
   "metadata": {},
   "outputs": [],
   "source": [
    "def dui_dt(i,u,a=2,T=1,I=3):\n",
    "    sum = 0\n",
    "    for j in range(50-1):\n",
    "        sum += T[i][j]*g(u)\n",
    "    \n",
    "    derivative = (-1/a)*u+(1/a)*(sum+I)\n",
    "    return [u, derivative]"
   ]
  },
  {
   "cell_type": "markdown",
   "id": "721c2242",
   "metadata": {},
   "source": [
    "# Calling dui_dt function"
   ]
  },
  {
   "cell_type": "code",
   "execution_count": 5,
   "id": "a52b3e01",
   "metadata": {},
   "outputs": [],
   "source": [
    "#derivatives = []\n",
    "#for i in range(len(T)-1):\n",
    "#    derivatives.append(dui_dt(i,a,ulist,T,I))"
   ]
  },
  {
   "cell_type": "markdown",
   "id": "7b1b7dcc",
   "metadata": {},
   "source": [
    "# Define stuff needed for plotting"
   ]
  },
  {
   "cell_type": "markdown",
   "id": "a838d4d8",
   "metadata": {},
   "source": [
    "HOR and VER are the horizontal and vertical positions of the vectors"
   ]
  },
  {
   "cell_type": "code",
   "execution_count": 6,
   "id": "4b9a3018",
   "metadata": {},
   "outputs": [],
   "source": [
    "hor = np.linspace(-10,10,50)\n",
    "ver = np.linspace(-10,10,50)\n",
    "HOR, VER = np.meshgrid(hor, ver)"
   ]
  },
  {
   "cell_type": "markdown",
   "id": "92c53a05",
   "metadata": {},
   "source": [
    "UP and RIGHT are the directions of the vectors"
   ]
  },
  {
   "cell_type": "code",
   "execution_count": 7,
   "id": "aa049e62",
   "metadata": {},
   "outputs": [],
   "source": [
    "UP, RIGHT = np.zeros(HOR.shape), np.zeros(VER.shape)"
   ]
  },
  {
   "cell_type": "code",
   "execution_count": 8,
   "id": "7a91b036",
   "metadata": {},
   "outputs": [
    {
     "ename": "TypeError",
     "evalue": "'int' object is not subscriptable",
     "output_type": "error",
     "traceback": [
      "\u001b[1;31m---------------------------------------------------------------------------\u001b[0m",
      "\u001b[1;31mTypeError\u001b[0m                                 Traceback (most recent call last)",
      "\u001b[1;32m~\\AppData\\Local\\Temp\\ipykernel_6248\\3112530880.py\u001b[0m in \u001b[0;36m<module>\u001b[1;34m\u001b[0m\n\u001b[0;32m      3\u001b[0m     \u001b[1;32mfor\u001b[0m \u001b[0mj\u001b[0m \u001b[1;32min\u001b[0m \u001b[0mrange\u001b[0m\u001b[1;33m(\u001b[0m\u001b[0mNJ\u001b[0m\u001b[1;33m)\u001b[0m\u001b[1;33m:\u001b[0m\u001b[1;33m\u001b[0m\u001b[1;33m\u001b[0m\u001b[0m\n\u001b[0;32m      4\u001b[0m         \u001b[0mu\u001b[0m \u001b[1;33m=\u001b[0m \u001b[0mHOR\u001b[0m\u001b[1;33m[\u001b[0m\u001b[0mi\u001b[0m\u001b[1;33m,\u001b[0m\u001b[0mj\u001b[0m\u001b[1;33m]\u001b[0m\u001b[1;33m\u001b[0m\u001b[1;33m\u001b[0m\u001b[0m\n\u001b[1;32m----> 5\u001b[1;33m         \u001b[0mderivative\u001b[0m \u001b[1;33m=\u001b[0m \u001b[0mdui_dt\u001b[0m\u001b[1;33m(\u001b[0m\u001b[0mi\u001b[0m\u001b[1;33m=\u001b[0m\u001b[0mi\u001b[0m\u001b[1;33m,\u001b[0m\u001b[0mu\u001b[0m\u001b[1;33m=\u001b[0m\u001b[0mu\u001b[0m\u001b[1;33m)\u001b[0m\u001b[1;33m\u001b[0m\u001b[1;33m\u001b[0m\u001b[0m\n\u001b[0m\u001b[0;32m      6\u001b[0m         \u001b[0mUP\u001b[0m\u001b[1;33m[\u001b[0m\u001b[0mi\u001b[0m\u001b[1;33m,\u001b[0m\u001b[0mj\u001b[0m\u001b[1;33m]\u001b[0m \u001b[1;33m=\u001b[0m \u001b[0mderivative\u001b[0m\u001b[1;33m[\u001b[0m\u001b[1;36m0\u001b[0m\u001b[1;33m]\u001b[0m\u001b[1;33m\u001b[0m\u001b[1;33m\u001b[0m\u001b[0m\n\u001b[0;32m      7\u001b[0m         \u001b[0mRIGHT\u001b[0m\u001b[1;33m[\u001b[0m\u001b[0mi\u001b[0m\u001b[1;33m,\u001b[0m\u001b[0mj\u001b[0m\u001b[1;33m]\u001b[0m \u001b[1;33m=\u001b[0m \u001b[0mderivative\u001b[0m\u001b[1;33m[\u001b[0m\u001b[1;36m1\u001b[0m\u001b[1;33m]\u001b[0m\u001b[1;33m\u001b[0m\u001b[1;33m\u001b[0m\u001b[0m\n",
      "\u001b[1;32m~\\AppData\\Local\\Temp\\ipykernel_6248\\2237511356.py\u001b[0m in \u001b[0;36mdui_dt\u001b[1;34m(i, u, a, T, I)\u001b[0m\n\u001b[0;32m      1\u001b[0m \u001b[1;32mdef\u001b[0m \u001b[0mdui_dt\u001b[0m\u001b[1;33m(\u001b[0m\u001b[0mi\u001b[0m\u001b[1;33m,\u001b[0m\u001b[0mu\u001b[0m\u001b[1;33m,\u001b[0m\u001b[0ma\u001b[0m\u001b[1;33m=\u001b[0m\u001b[1;36m2\u001b[0m\u001b[1;33m,\u001b[0m\u001b[0mT\u001b[0m\u001b[1;33m=\u001b[0m\u001b[1;36m1\u001b[0m\u001b[1;33m,\u001b[0m\u001b[0mI\u001b[0m\u001b[1;33m=\u001b[0m\u001b[1;36m3\u001b[0m\u001b[1;33m)\u001b[0m\u001b[1;33m:\u001b[0m\u001b[1;33m\u001b[0m\u001b[1;33m\u001b[0m\u001b[0m\n\u001b[0;32m      2\u001b[0m     \u001b[0msum\u001b[0m \u001b[1;33m=\u001b[0m \u001b[1;36m0\u001b[0m\u001b[1;33m\u001b[0m\u001b[1;33m\u001b[0m\u001b[0m\n\u001b[1;32m----> 3\u001b[1;33m     \u001b[1;32mfor\u001b[0m \u001b[0mj\u001b[0m \u001b[1;32min\u001b[0m \u001b[0mrange\u001b[0m\u001b[1;33m(\u001b[0m\u001b[0mlen\u001b[0m\u001b[1;33m(\u001b[0m\u001b[0mT\u001b[0m\u001b[1;33m[\u001b[0m\u001b[0mi\u001b[0m\u001b[1;33m]\u001b[0m\u001b[1;33m)\u001b[0m\u001b[1;33m-\u001b[0m\u001b[1;36m1\u001b[0m\u001b[1;33m)\u001b[0m\u001b[1;33m:\u001b[0m\u001b[1;33m\u001b[0m\u001b[1;33m\u001b[0m\u001b[0m\n\u001b[0m\u001b[0;32m      4\u001b[0m         \u001b[0msum\u001b[0m \u001b[1;33m+=\u001b[0m \u001b[0mT\u001b[0m\u001b[1;33m[\u001b[0m\u001b[0mi\u001b[0m\u001b[1;33m]\u001b[0m\u001b[1;33m[\u001b[0m\u001b[0mj\u001b[0m\u001b[1;33m]\u001b[0m\u001b[1;33m*\u001b[0m\u001b[0mg\u001b[0m\u001b[1;33m(\u001b[0m\u001b[0mu\u001b[0m\u001b[1;33m)\u001b[0m\u001b[1;33m\u001b[0m\u001b[1;33m\u001b[0m\u001b[0m\n\u001b[0;32m      5\u001b[0m \u001b[1;33m\u001b[0m\u001b[0m\n",
      "\u001b[1;31mTypeError\u001b[0m: 'int' object is not subscriptable"
     ]
    }
   ],
   "source": [
    "NI, NJ = HOR.shape\n",
    "for i in range(NI):\n",
    "    for j in range(NJ):\n",
    "        u = HOR[i,j]\n",
    "        derivative = dui_dt(i=i,u=u)\n",
    "        UP[i,j] = derivative[0]\n",
    "        RIGHT[i,j] = derivative[1]"
   ]
  },
  {
   "cell_type": "code",
   "execution_count": null,
   "id": "cd6fb719",
   "metadata": {},
   "outputs": [],
   "source": [
    "plt.xlabel('$u$')\n",
    "plt.ylabel('$du/dt$')\n",
    "plt.xlim([-10, 10])\n",
    "plt.ylim([-10, 10])\n",
    "Q = plt.quiver(HOR, VER, UP, RIGHT)"
   ]
  }
 ],
 "metadata": {
  "kernelspec": {
   "display_name": "Python 3 (ipykernel)",
   "language": "python",
   "name": "python3"
  },
  "language_info": {
   "codemirror_mode": {
    "name": "ipython",
    "version": 3
   },
   "file_extension": ".py",
   "mimetype": "text/x-python",
   "name": "python",
   "nbconvert_exporter": "python",
   "pygments_lexer": "ipython3",
   "version": "3.9.13"
  }
 },
 "nbformat": 4,
 "nbformat_minor": 5
}
